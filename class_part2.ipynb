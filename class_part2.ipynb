{
 "cells": [
  {
   "cell_type": "code",
   "execution_count": 1,
   "metadata": {},
   "outputs": [],
   "source": [
    "class BankAcc:\n",
    "\n",
    "    def __init__(self, name, balance, type, acc_num):\n",
    "        self.__name = name\n",
    "        self.__balance = balance\n",
    "        self.__type = type\n",
    "        self.__accNum = acc_num\n",
    "    \n",
    "    @property\n",
    "    def name(self):\n",
    "        return self.__name\n",
    "    \n",
    "    @property\n",
    "    def balance(self):\n",
    "        return self.__balance\n",
    "\n",
    "    @property\n",
    "    def type(self):\n",
    "        return self.__type\n",
    "\n",
    "    @property\n",
    "    def acc_num(self):\n",
    "        return self.__accNum\n",
    "    \n",
    "    @name.setter\n",
    "    def name(self, new_name):\n",
    "        self.__name = new_name\n",
    "    \n",
    "    @balance.setter\n",
    "    def balance(self, new_balance):\n",
    "        self.__balance = new_balance\n",
    "\n",
    "    @type.setter\n",
    "    def type(self, new_type):\n",
    "        self.__type = new_type\n",
    "\n",
    "    @acc_num.setter\n",
    "    def acc_num(self, new_acc_num):\n",
    "        self.__accNum = new_acc_num\n",
    "\n",
    "    @property\n",
    "    def acc_info(self):\n",
    "        print(f\"Name: {self.__name}\\nBalance: {self.__balance}\\nType: {self.__type}\\nAccount Number: {self.__accNum}\")"
   ]
  },
  {
   "cell_type": "code",
   "execution_count": 2,
   "metadata": {},
   "outputs": [],
   "source": [
    "input_name = str(input(\"Enter your name: \"))\n",
    "input_balance = float(input(\"Enter your balance: \"))\n",
    "input_type = str(input(\"Enter your account type: \"))\n",
    "input_acc_num = str(input(\"Enter your account number: \"))"
   ]
  },
  {
   "cell_type": "code",
   "execution_count": 3,
   "metadata": {},
   "outputs": [
    {
     "name": "stdout",
     "output_type": "stream",
     "text": [
      "Name: Bill Van\n",
      "Balance: 30000000.0\n",
      "Type: BCA\n",
      "Account Number: 128362340794\n"
     ]
    }
   ],
   "source": [
    "acc1 = BankAcc(input_name, input_balance, input_type, input_acc_num)\n",
    "acc1.acc_info"
   ]
  },
  {
   "cell_type": "code",
   "execution_count": 12,
   "metadata": {},
   "outputs": [
    {
     "data": {
      "text/plain": [
       "'32349234923'"
      ]
     },
     "execution_count": 12,
     "metadata": {},
     "output_type": "execute_result"
    }
   ],
   "source": [
    "# Try to chage the attribute values\n",
    "# acc1.type = \"5648000000\"\n",
    "acc1.acc_num"
   ]
  }
 ],
 "metadata": {
  "kernelspec": {
   "display_name": "Python 3",
   "language": "python",
   "name": "python3"
  },
  "language_info": {
   "codemirror_mode": {
    "name": "ipython",
    "version": 3
   },
   "file_extension": ".py",
   "mimetype": "text/x-python",
   "name": "python",
   "nbconvert_exporter": "python",
   "pygments_lexer": "ipython3",
   "version": "3.9.9"
  },
  "orig_nbformat": 4,
  "vscode": {
   "interpreter": {
    "hash": "11938c6bc6919ae2720b4d5011047913343b08a43b18698fd82dedb0d4417594"
   }
  }
 },
 "nbformat": 4,
 "nbformat_minor": 2
}
