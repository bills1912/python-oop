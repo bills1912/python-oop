{
 "cells": [
  {
   "cell_type": "code",
   "execution_count": 1,
   "metadata": {},
   "outputs": [],
   "source": [
    "class ProgrammingLanguage:\n",
    "\n",
    "    def __init__(self, name, comment):\n",
    "        self.__name = name\n",
    "        self.__comment = comment\n",
    "    \n",
    "    @property\n",
    "    def getName(self):\n",
    "        return self.__name\n",
    "    \n",
    "    @property\n",
    "    def getComment(self):\n",
    "        return self.__comment\n",
    "\n",
    "    @getName.setter\n",
    "    def setName(self, new_name):\n",
    "        self.__name = new_name\n",
    "    \n",
    "    @getComment.setter\n",
    "    def setComment(self, new_comment):\n",
    "        self.__comment = new_comment"
   ]
  },
  {
   "cell_type": "code",
   "execution_count": 11,
   "metadata": {},
   "outputs": [],
   "source": [
    "# Class PythonLanguage is inherited the behaviour of the parent class (ProgrammingLanguage class)\n",
    "\n",
    "class PythonLanguage(ProgrammingLanguage):\n",
    "    \n",
    "    def __repr__(self):\n",
    "        return f\"This is {self.name} language with {self.comment} is the symbol of comment in this language.\""
   ]
  },
  {
   "cell_type": "code",
   "execution_count": 12,
   "metadata": {},
   "outputs": [],
   "source": [
    "test = PythonLanguage(\"Python\", \"#\")"
   ]
  },
  {
   "cell_type": "code",
   "execution_count": 13,
   "metadata": {},
   "outputs": [
    {
     "name": "stdout",
     "output_type": "stream",
     "text": [
      "This is Python language with # is the symbol of comment in this language.\n"
     ]
    }
   ],
   "source": [
    "print(test)"
   ]
  }
 ],
 "metadata": {
  "kernelspec": {
   "display_name": "Python 3",
   "language": "python",
   "name": "python3"
  },
  "language_info": {
   "codemirror_mode": {
    "name": "ipython",
    "version": 3
   },
   "file_extension": ".py",
   "mimetype": "text/x-python",
   "name": "python",
   "nbconvert_exporter": "python",
   "pygments_lexer": "ipython3",
   "version": "3.9.9"
  },
  "orig_nbformat": 4,
  "vscode": {
   "interpreter": {
    "hash": "11938c6bc6919ae2720b4d5011047913343b08a43b18698fd82dedb0d4417594"
   }
  }
 },
 "nbformat": 4,
 "nbformat_minor": 2
}
