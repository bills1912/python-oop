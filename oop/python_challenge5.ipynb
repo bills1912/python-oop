{
 "cells": [
  {
   "attachments": {},
   "cell_type": "markdown",
   "metadata": {},
   "source": [
    "## 41. Quadratic Equation Solution"
   ]
  },
  {
   "cell_type": "code",
   "execution_count": 1,
   "metadata": {},
   "outputs": [],
   "source": [
    "def quadratic_solved(coef_a, coef_b, coef_c):\n",
    "    print(f\"The quadratic function form is: {coef_a}x^2 + ({coef_b}x) + ({coef_c})\")\n",
    "    determinan = (coef_b**2) - (4*coef_a*coef_c)\n",
    "    x1 = (-coef_b + (determinan)**(1/2)) / (2*coef_a)\n",
    "    x2 = (-coef_b - (determinan)**(1/2)) / (2*coef_a)\n",
    "    \n",
    "    return f\"The solution of the quadratic function is x1 = [x + ({x1})] and x2 = [x + ({x2})]\""
   ]
  },
  {
   "cell_type": "code",
   "execution_count": 3,
   "metadata": {},
   "outputs": [
    {
     "name": "stdout",
     "output_type": "stream",
     "text": [
      "The quadratic function form is: 1x^2 + (4x) + (3)\n"
     ]
    },
    {
     "data": {
      "text/plain": [
       "'The solution of the quadratic function is x1 = x + (-1.0) and x2 = x + (-3.0)'"
      ]
     },
     "execution_count": 3,
     "metadata": {},
     "output_type": "execute_result"
    }
   ],
   "source": [
    "a = int(input(\"Input a coefficient: \"))\n",
    "b = int(input(\"Input b coefficient: \"))\n",
    "c = int(input(\"Input c coefficient: \"))\n",
    "\n",
    "quadratic_solved(a, b, c)"
   ]
  },
  {
   "attachments": {},
   "cell_type": "markdown",
   "metadata": {},
   "source": [
    "## 42. Factorial Calculator"
   ]
  },
  {
   "cell_type": "code",
   "execution_count": 11,
   "metadata": {},
   "outputs": [],
   "source": [
    "def factorial(num):\n",
    "    temp = 0\n",
    "    for i in range(1, num):\n",
    "        temp += 1\n",
    "        num *= temp\n",
    "    return num"
   ]
  },
  {
   "cell_type": "code",
   "execution_count": 13,
   "metadata": {},
   "outputs": [
    {
     "data": {
      "text/plain": [
       "5040"
      ]
     },
     "execution_count": 13,
     "metadata": {},
     "output_type": "execute_result"
    }
   ],
   "source": [
    "number = int(input(\"Input your number: \"))\n",
    "factorial(number)"
   ]
  },
  {
   "attachments": {},
   "cell_type": "markdown",
   "metadata": {},
   "source": [
    "## 43. Fibonacci Problem"
   ]
  },
  {
   "cell_type": "code",
   "execution_count": 45,
   "metadata": {},
   "outputs": [],
   "source": [
    "def fibonacci(num):\n",
    "    f_n1 = 0\n",
    "    f_n2 = 1\n",
    "    count = 0\n",
    "    while(count < num):\n",
    "        print(f\"Fibonacci number: {f_n2}\")\n",
    "        f_nth = f_n1 + f_n2\n",
    "        f_n1 = f_n2\n",
    "        f_n2 = f_nth\n",
    "        \n",
    "        print(f\"Correspondence golden ration value: {f_nth/f_n1}\")\n",
    "        count += 1"
   ]
  },
  {
   "cell_type": "code",
   "execution_count": 48,
   "metadata": {},
   "outputs": [
    {
     "name": "stdout",
     "output_type": "stream",
     "text": [
      "Fibonacci number: 1\n",
      "Correspondence golden ration value: 1.0\n",
      "Fibonacci number: 1\n",
      "Correspondence golden ration value: 2.0\n",
      "Fibonacci number: 2\n",
      "Correspondence golden ration value: 1.5\n",
      "Fibonacci number: 3\n",
      "Correspondence golden ration value: 1.6666666666666667\n",
      "Fibonacci number: 5\n",
      "Correspondence golden ration value: 1.6\n",
      "Fibonacci number: 8\n",
      "Correspondence golden ration value: 1.625\n",
      "Fibonacci number: 13\n",
      "Correspondence golden ration value: 1.6153846153846154\n",
      "Fibonacci number: 21\n",
      "Correspondence golden ration value: 1.619047619047619\n",
      "Fibonacci number: 34\n",
      "Correspondence golden ration value: 1.6176470588235294\n",
      "Fibonacci number: 55\n",
      "Correspondence golden ration value: 1.6181818181818182\n",
      "Fibonacci number: 89\n",
      "Correspondence golden ration value: 1.6179775280898876\n",
      "Fibonacci number: 144\n",
      "Correspondence golden ration value: 1.6180555555555556\n",
      "Fibonacci number: 233\n",
      "Correspondence golden ration value: 1.6180257510729614\n",
      "Fibonacci number: 377\n",
      "Correspondence golden ration value: 1.6180371352785146\n",
      "Fibonacci number: 610\n",
      "Correspondence golden ration value: 1.618032786885246\n"
     ]
    }
   ],
   "source": [
    "fibonacci(15)"
   ]
  },
  {
   "attachments": {},
   "cell_type": "markdown",
   "metadata": {},
   "source": [
    "## 44. Grade Point Calculator"
   ]
  },
  {
   "cell_type": "code",
   "execution_count": 59,
   "metadata": {},
   "outputs": [
    {
     "name": "stdout",
     "output_type": "stream",
     "text": [
      "Your score from higher to lower:\n",
      "90\n",
      "86\n",
      "84\n",
      "77\n",
      "68\n",
      "\n",
      "Summary:\n",
      "Total number of score: 5\n",
      "Highest score: 90\n",
      "Lowest score: 68\n",
      "Average: 81.0\n",
      "\n",
      "Good luck!\n",
      "You will need 105.0 on your next assignment to earn 85 score.\n",
      "\n",
      "Let's see what your average could have been if you did better/worse on an assignment\n",
      "\n",
      "Latest summary:\n",
      "Total number of score: 5\n",
      "Highest score: 90\n",
      "Lowest score: 77\n",
      "Average: 83.2\n",
      "\n",
      "Your new average would be a 83.2 compared to your real average 81.0\n",
      "That is change of 2.200000000000003 points\n"
     ]
    }
   ],
   "source": [
    "list_num = []\n",
    "for i in range(5):\n",
    "    list_num.append(int(input(f\"Enter your score: \")))\n",
    "print(\"Your score from higher to lower:\")\n",
    "for num in sorted(list_num, reverse=True):\n",
    "    print(num)\n",
    "    \n",
    "print(\"\\nSummary:\")\n",
    "print(f\"Total number of score: {len(list_num)}\")\n",
    "print(f\"Highest score: {max(list_num)}\")\n",
    "print(f\"Lowest score: {min(list_num)}\")\n",
    "avg = sum(list_num)/len(list_num)\n",
    "print(f\"Average: {avg}\")\n",
    "new_avg = int(input(\"\\nWhat is your desired average score: \"))\n",
    "\n",
    "print(\"\\nGood luck!\")\n",
    "print(f\"You will need {(new_avg * (len(list_num)+1)) - (avg*len(list_num))} on your next assignment to earn {new_avg} score.\")\n",
    "print(\"\\nLet's see what your average could have been if you did better/worse on an assignment\")\n",
    "selected_score = int(input(\"What score would you like to change: \"))\n",
    "list_num.remove(selected_score)\n",
    "list_num.append(int(input(f\"What score would you like to change {selected_score} for: \")))\n",
    "\n",
    "print(\"\\nLatest summary:\")\n",
    "print(f\"Total number of score: {len(list_num)}\")\n",
    "print(f\"Highest score: {max(list_num)}\")\n",
    "print(f\"Lowest score: {min(list_num)}\")\n",
    "latest_avg = sum(list_num)/len(list_num)\n",
    "print(f\"Average: {latest_avg}\")\n",
    "\n",
    "print(f\"\\nYour new average would be a {latest_avg} compared to your real average {avg}\")\n",
    "print(f\"That is change of {latest_avg-avg:.2f} points\")"
   ]
  }
 ],
 "metadata": {
  "kernelspec": {
   "display_name": "Python 3",
   "language": "python",
   "name": "python3"
  },
  "language_info": {
   "codemirror_mode": {
    "name": "ipython",
    "version": 3
   },
   "file_extension": ".py",
   "mimetype": "text/x-python",
   "name": "python",
   "nbconvert_exporter": "python",
   "pygments_lexer": "ipython3",
   "version": "3.9.9"
  },
  "orig_nbformat": 4,
  "vscode": {
   "interpreter": {
    "hash": "11938c6bc6919ae2720b4d5011047913343b08a43b18698fd82dedb0d4417594"
   }
  }
 },
 "nbformat": 4,
 "nbformat_minor": 2
}
