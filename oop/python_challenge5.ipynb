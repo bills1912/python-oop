{
 "cells": [
  {
   "attachments": {},
   "cell_type": "markdown",
   "metadata": {},
   "source": [
    "## 41. Quadratic Equation Solution"
   ]
  },
  {
   "cell_type": "code",
   "execution_count": 1,
   "metadata": {},
   "outputs": [],
   "source": [
    "def quadratic_solved(coef_a, coef_b, coef_c):\n",
    "    print(f\"The quadratic function form is: {coef_a}x^2 + ({coef_b}x) + ({coef_c})\")\n",
    "    determinan = (coef_b**2) - (4*coef_a*coef_c)\n",
    "    x1 = (-coef_b + (determinan)**(1/2)) / (2*coef_a)\n",
    "    x2 = (-coef_b - (determinan)**(1/2)) / (2*coef_a)\n",
    "    \n",
    "    return f\"The solution of the quadratic function is x1 = [x + ({x1})] and x2 = [x + ({x2})]\""
   ]
  },
  {
   "cell_type": "code",
   "execution_count": 3,
   "metadata": {},
   "outputs": [
    {
     "name": "stdout",
     "output_type": "stream",
     "text": [
      "The quadratic function form is: 1x^2 + (4x) + (3)\n"
     ]
    },
    {
     "data": {
      "text/plain": [
       "'The solution of the quadratic function is x1 = x + (-1.0) and x2 = x + (-3.0)'"
      ]
     },
     "execution_count": 3,
     "metadata": {},
     "output_type": "execute_result"
    }
   ],
   "source": [
    "a = int(input(\"Input a coefficient: \"))\n",
    "b = int(input(\"Input b coefficient: \"))\n",
    "c = int(input(\"Input c coefficient: \"))\n",
    "\n",
    "quadratic_solved(a, b, c)"
   ]
  },
  {
   "attachments": {},
   "cell_type": "markdown",
   "metadata": {},
   "source": [
    "## 42. Factorial Calculator"
   ]
  },
  {
   "cell_type": "code",
   "execution_count": 11,
   "metadata": {},
   "outputs": [],
   "source": [
    "def factorial(num):\n",
    "    temp = 0\n",
    "    for i in range(1, num):\n",
    "        temp += 1\n",
    "        num *= temp\n",
    "    return num"
   ]
  },
  {
   "cell_type": "code",
   "execution_count": 13,
   "metadata": {},
   "outputs": [
    {
     "data": {
      "text/plain": [
       "5040"
      ]
     },
     "execution_count": 13,
     "metadata": {},
     "output_type": "execute_result"
    }
   ],
   "source": [
    "number = int(input(\"Input your number: \"))\n",
    "factorial(number)"
   ]
  }
 ],
 "metadata": {
  "kernelspec": {
   "display_name": "Python 3",
   "language": "python",
   "name": "python3"
  },
  "language_info": {
   "codemirror_mode": {
    "name": "ipython",
    "version": 3
   },
   "file_extension": ".py",
   "mimetype": "text/x-python",
   "name": "python",
   "nbconvert_exporter": "python",
   "pygments_lexer": "ipython3",
   "version": "3.9.9"
  },
  "orig_nbformat": 4,
  "vscode": {
   "interpreter": {
    "hash": "11938c6bc6919ae2720b4d5011047913343b08a43b18698fd82dedb0d4417594"
   }
  }
 },
 "nbformat": 4,
 "nbformat_minor": 2
}
