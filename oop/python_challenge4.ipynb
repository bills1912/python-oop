{
 "cells": [
  {
   "cell_type": "code",
   "execution_count": 25,
   "metadata": {},
   "outputs": [],
   "source": [
    "import math"
   ]
  },
  {
   "attachments": {},
   "cell_type": "markdown",
   "metadata": {},
   "source": [
    "## 31. Conversion of MPH to MPS"
   ]
  },
  {
   "cell_type": "code",
   "execution_count": 24,
   "metadata": {},
   "outputs": [
    {
     "data": {
      "text/plain": [
       "'Your speed in meter per second is 54.99'"
      ]
     },
     "execution_count": 24,
     "metadata": {},
     "output_type": "execute_result"
    }
   ],
   "source": [
    "mph = float(input(\"What is your speed in miles per hour: \"))\n",
    "\n",
    "def mph_to_mps(num):\n",
    "    return f\"Your speed in meter per second is {num*0.44704:.2f}\"\n",
    "\n",
    "mph_to_mps(mph)"
   ]
  },
  {
   "attachments": {},
   "cell_type": "markdown",
   "metadata": {},
   "source": [
    "## 32. Temperature Conversion"
   ]
  },
  {
   "cell_type": "code",
   "execution_count": 22,
   "metadata": {},
   "outputs": [],
   "source": [
    "def temp_conversion(farenheight):\n",
    "    celcius = (farenheight-32) * (5/9)\n",
    "    kelvin = celcius + 273.15\n",
    "    return f\"Degrees Farenheight: {farenheight}, Degrees Celcius: {celcius:.2f}, Degrees Kelvin: {kelvin:.2f}\""
   ]
  },
  {
   "cell_type": "code",
   "execution_count": 23,
   "metadata": {},
   "outputs": [
    {
     "data": {
      "text/plain": [
       "'Degrees Farenheight: 103, Degrees Celcius: 39.44, Degrees Kelvin: 312.59'"
      ]
     },
     "execution_count": 23,
     "metadata": {},
     "output_type": "execute_result"
    }
   ],
   "source": [
    "temp_conversion(103)"
   ]
  },
  {
   "attachments": {},
   "cell_type": "markdown",
   "metadata": {},
   "source": [
    "## 33. Triangle Problem"
   ]
  },
  {
   "cell_type": "code",
   "execution_count": 26,
   "metadata": {},
   "outputs": [],
   "source": [
    "def triangle(a, b):\n",
    "    hypotenuse = math.sqrt(a**2 + b**2)\n",
    "    area = (1/2) * a*b\n",
    "    return f\"Hypotenuse of triangle: {hypotenuse}, and the area is: {area}\""
   ]
  },
  {
   "cell_type": "code",
   "execution_count": 28,
   "metadata": {},
   "outputs": [
    {
     "data": {
      "text/plain": [
       "'Hypotenuse of triangle: 5.0, and the area is: 6.0'"
      ]
     },
     "execution_count": 28,
     "metadata": {},
     "output_type": "execute_result"
    }
   ],
   "source": [
    "triangle(3, 4)"
   ]
  },
  {
   "attachments": {},
   "cell_type": "markdown",
   "metadata": {},
   "source": [
    "## 34. Multiplication and Exponential Problem"
   ]
  },
  {
   "cell_type": "code",
   "execution_count": 43,
   "metadata": {},
   "outputs": [],
   "source": [
    "def multiply(num):\n",
    "    print(f\"Multiplication table of {num} is:\")\n",
    "    for i in range(1, 10):\n",
    "        print(f\"{i} * {num} = {i*num}\")"
   ]
  },
  {
   "cell_type": "code",
   "execution_count": 44,
   "metadata": {},
   "outputs": [
    {
     "name": "stdout",
     "output_type": "stream",
     "text": [
      "Multiplication table of 5 is:\n",
      "1 * 5 = 5\n",
      "2 * 5 = 10\n",
      "3 * 5 = 15\n",
      "4 * 5 = 20\n",
      "5 * 5 = 25\n",
      "6 * 5 = 30\n",
      "7 * 5 = 35\n",
      "8 * 5 = 40\n",
      "9 * 5 = 45\n"
     ]
    }
   ],
   "source": [
    "multiply(5)"
   ]
  },
  {
   "cell_type": "code",
   "execution_count": 47,
   "metadata": {},
   "outputs": [],
   "source": [
    "def exponent(num):\n",
    "    print(f\"Exponential table of {num} is:\")\n",
    "    for i in range(1, 10):\n",
    "        print(f\"{num} ** {i} = {num**i}\")"
   ]
  },
  {
   "cell_type": "code",
   "execution_count": 48,
   "metadata": {},
   "outputs": [
    {
     "name": "stdout",
     "output_type": "stream",
     "text": [
      "Exponential table of 5 is:\n",
      "5 ** 1 = 5\n",
      "5 ** 2 = 25\n",
      "5 ** 3 = 125\n",
      "5 ** 4 = 625\n",
      "5 ** 5 = 3125\n",
      "5 ** 6 = 15625\n",
      "5 ** 7 = 78125\n",
      "5 ** 8 = 390625\n",
      "5 ** 9 = 1953125\n"
     ]
    }
   ],
   "source": [
    "exponent(5)"
   ]
  },
  {
   "attachments": {},
   "cell_type": "markdown",
   "metadata": {},
   "source": [
    "## 35. Grade Problem"
   ]
  },
  {
   "cell_type": "code",
   "execution_count": 65,
   "metadata": {},
   "outputs": [],
   "source": [
    "def grade_rank(*args):\n",
    "    grade = []\n",
    "    for g in args:\n",
    "        grade.append(g)\n",
    "    print(f\"Your grades are: {grade}\")\n",
    "    print(f\"Your grades from highest to lowest: {sorted(grade)}\")\n",
    "    print(\"\\nThe lowest two grade will be removed.\")\n",
    "    \n",
    "    for i in range(0, 2):\n",
    "        print(f\"Removed grade: {min(grade)}\")\n",
    "        grade.remove(min(grade))\n",
    "    print(f\"\\nYour remaining grades are: {grade}\")\n",
    "    print(f\"\\nNice work! your higher grade is {max(grade)}\")"
   ]
  },
  {
   "cell_type": "code",
   "execution_count": 66,
   "metadata": {},
   "outputs": [
    {
     "name": "stdout",
     "output_type": "stream",
     "text": [
      "Your grades are: [100, 30, 40, 89]\n",
      "Your grades from highest to lowest: [30, 40, 89, 100]\n",
      "\n",
      "The lowest two grade will be removed.\n",
      "Removed grade: 30\n",
      "Removed grade: 40\n",
      "\n",
      "Your remaining grades are: [100, 89]\n",
      "\n",
      "Nice work! your higher grade is 100\n"
     ]
    }
   ],
   "source": [
    "grade_rank(100, 30, 40, 89)"
   ]
  },
  {
   "attachments": {},
   "cell_type": "markdown",
   "metadata": {},
   "source": [
    "## 36. Different Type of List"
   ]
  },
  {
   "cell_type": "code",
   "execution_count": 122,
   "metadata": {},
   "outputs": [],
   "source": [
    "def diff_type(**kwargs):\n",
    "    lst = []\n",
    "    for val in kwargs.values():\n",
    "        lst.append(val)\n",
    "        print(f\"Type of list: {type(val)}\")\n",
    "        print(f\"It contains: {val}\")\n",
    "        print(f\"The element {val[0]} is a {type(val[0])}\\n\")\n",
    "    print(\"Now sorting the integer and string list\")\n",
    "    for l in lst:\n",
    "        if(type(l[0]) == int):\n",
    "            print(f\"Sorted integer list: {sorted(l)}\")\n",
    "        elif(type(l[0]) == str):\n",
    "            print(f\"Sorted integer list: {sorted(l, reverse=True)}\")"
   ]
  },
  {
   "cell_type": "code",
   "execution_count": 125,
   "metadata": {},
   "outputs": [
    {
     "name": "stdout",
     "output_type": "stream",
     "text": [
      "Type of list: <class 'list'>\n",
      "It contains: [2, 3, 4]\n",
      "The element 2 is a <class 'int'>\n",
      "\n",
      "Type of list: <class 'list'>\n",
      "It contains: ['1', '2', '34', '100', '50']\n",
      "The element 1 is a <class 'str'>\n",
      "\n",
      "Type of list: <class 'list'>\n",
      "It contains: [2.3, 4.2, 34.4]\n",
      "The element 2.3 is a <class 'float'>\n",
      "\n",
      "Type of list: <class 'list'>\n",
      "It contains: [[1, 3, 4], [3, 4, 5]]\n",
      "The element [1, 3, 4] is a <class 'list'>\n",
      "\n",
      "Now sorting the integer and string list\n",
      "Sorted integer list: [2, 3, 4]\n",
      "Sorted integer list: ['50', '34', '2', '100', '1']\n"
     ]
    }
   ],
   "source": [
    "diff_type(list1=[2, 3, 4], list2=[\"1\", \"2\", \"34\", \"100\", \"50\"], list3=[2.3, 4.2, 34.4], list4=[[1, 3, 4], [3, 4, 5]])"
   ]
  },
  {
   "cell_type": "code",
   "execution_count": 118,
   "metadata": {},
   "outputs": [
    {
     "data": {
      "text/plain": [
       "False"
      ]
     },
     "execution_count": 118,
     "metadata": {},
     "output_type": "execute_result"
    }
   ],
   "source": [
    "list1 = [2, 3, 4]\n",
    "type(list1[0]) == str"
   ]
  }
 ],
 "metadata": {
  "kernelspec": {
   "display_name": "Python 3",
   "language": "python",
   "name": "python3"
  },
  "language_info": {
   "codemirror_mode": {
    "name": "ipython",
    "version": 3
   },
   "file_extension": ".py",
   "mimetype": "text/x-python",
   "name": "python",
   "nbconvert_exporter": "python",
   "pygments_lexer": "ipython3",
   "version": "3.9.9"
  },
  "orig_nbformat": 4,
  "vscode": {
   "interpreter": {
    "hash": "11938c6bc6919ae2720b4d5011047913343b08a43b18698fd82dedb0d4417594"
   }
  }
 },
 "nbformat": 4,
 "nbformat_minor": 2
}
