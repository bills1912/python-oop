{
 "cells": [
  {
   "cell_type": "code",
   "execution_count": 128,
   "metadata": {},
   "outputs": [],
   "source": [
    "from datetime import datetime"
   ]
  },
  {
   "attachments": {},
   "cell_type": "markdown",
   "metadata": {},
   "source": [
    "## 31. Conversion of MPH to MPS"
   ]
  },
  {
   "cell_type": "code",
   "execution_count": 24,
   "metadata": {},
   "outputs": [
    {
     "data": {
      "text/plain": [
       "'Your speed in meter per second is 54.99'"
      ]
     },
     "execution_count": 24,
     "metadata": {},
     "output_type": "execute_result"
    }
   ],
   "source": [
    "mph = float(input(\"What is your speed in miles per hour: \"))\n",
    "\n",
    "def mph_to_mps(num):\n",
    "    return f\"Your speed in meter per second is {num*0.44704:.2f}\"\n",
    "\n",
    "mph_to_mps(mph)"
   ]
  },
  {
   "attachments": {},
   "cell_type": "markdown",
   "metadata": {},
   "source": [
    "## 32. Temperature Conversion"
   ]
  },
  {
   "cell_type": "code",
   "execution_count": 22,
   "metadata": {},
   "outputs": [],
   "source": [
    "def temp_conversion(farenheight):\n",
    "    celcius = (farenheight-32) * (5/9)\n",
    "    kelvin = celcius + 273.15\n",
    "    return f\"Degrees Farenheight: {farenheight}, Degrees Celcius: {celcius:.2f}, Degrees Kelvin: {kelvin:.2f}\""
   ]
  },
  {
   "cell_type": "code",
   "execution_count": 23,
   "metadata": {},
   "outputs": [
    {
     "data": {
      "text/plain": [
       "'Degrees Farenheight: 103, Degrees Celcius: 39.44, Degrees Kelvin: 312.59'"
      ]
     },
     "execution_count": 23,
     "metadata": {},
     "output_type": "execute_result"
    }
   ],
   "source": [
    "temp_conversion(103)"
   ]
  },
  {
   "attachments": {},
   "cell_type": "markdown",
   "metadata": {},
   "source": [
    "## 33. Triangle Problem"
   ]
  },
  {
   "cell_type": "code",
   "execution_count": 126,
   "metadata": {},
   "outputs": [],
   "source": [
    "def triangle(a, b):\n",
    "    hypotenuse = (a**2 + b**2) ** (1/2)\n",
    "    area = (1/2) * a*b\n",
    "    return f\"Hypotenuse of triangle: {hypotenuse}, and the area is: {area}\""
   ]
  },
  {
   "cell_type": "code",
   "execution_count": 127,
   "metadata": {},
   "outputs": [
    {
     "data": {
      "text/plain": [
       "'Hypotenuse of triangle: 5.0, and the area is: 6.0'"
      ]
     },
     "execution_count": 127,
     "metadata": {},
     "output_type": "execute_result"
    }
   ],
   "source": [
    "triangle(3, 4)"
   ]
  },
  {
   "attachments": {},
   "cell_type": "markdown",
   "metadata": {},
   "source": [
    "## 34. Multiplication and Exponential Problem"
   ]
  },
  {
   "cell_type": "code",
   "execution_count": 43,
   "metadata": {},
   "outputs": [],
   "source": [
    "def multiply(num):\n",
    "    print(f\"Multiplication table of {num} is:\")\n",
    "    for i in range(1, 10):\n",
    "        print(f\"{i} * {num} = {i*num}\")"
   ]
  },
  {
   "cell_type": "code",
   "execution_count": 44,
   "metadata": {},
   "outputs": [
    {
     "name": "stdout",
     "output_type": "stream",
     "text": [
      "Multiplication table of 5 is:\n",
      "1 * 5 = 5\n",
      "2 * 5 = 10\n",
      "3 * 5 = 15\n",
      "4 * 5 = 20\n",
      "5 * 5 = 25\n",
      "6 * 5 = 30\n",
      "7 * 5 = 35\n",
      "8 * 5 = 40\n",
      "9 * 5 = 45\n"
     ]
    }
   ],
   "source": [
    "multiply(5)"
   ]
  },
  {
   "cell_type": "code",
   "execution_count": 47,
   "metadata": {},
   "outputs": [],
   "source": [
    "def exponent(num):\n",
    "    print(f\"Exponential table of {num} is:\")\n",
    "    for i in range(1, 10):\n",
    "        print(f\"{num} ** {i} = {num**i}\")"
   ]
  },
  {
   "cell_type": "code",
   "execution_count": 48,
   "metadata": {},
   "outputs": [
    {
     "name": "stdout",
     "output_type": "stream",
     "text": [
      "Exponential table of 5 is:\n",
      "5 ** 1 = 5\n",
      "5 ** 2 = 25\n",
      "5 ** 3 = 125\n",
      "5 ** 4 = 625\n",
      "5 ** 5 = 3125\n",
      "5 ** 6 = 15625\n",
      "5 ** 7 = 78125\n",
      "5 ** 8 = 390625\n",
      "5 ** 9 = 1953125\n"
     ]
    }
   ],
   "source": [
    "exponent(5)"
   ]
  },
  {
   "attachments": {},
   "cell_type": "markdown",
   "metadata": {},
   "source": [
    "## 35. Grade Problem"
   ]
  },
  {
   "cell_type": "code",
   "execution_count": 65,
   "metadata": {},
   "outputs": [],
   "source": [
    "def grade_rank(*args):\n",
    "    grade = []\n",
    "    for g in args:\n",
    "        grade.append(g)\n",
    "    print(f\"Your grades are: {grade}\")\n",
    "    print(f\"Your grades from highest to lowest: {sorted(grade)}\")\n",
    "    print(\"\\nThe lowest two grade will be removed.\")\n",
    "    \n",
    "    for i in range(0, 2):\n",
    "        print(f\"Removed grade: {min(grade)}\")\n",
    "        grade.remove(min(grade))\n",
    "    print(f\"\\nYour remaining grades are: {grade}\")\n",
    "    print(f\"\\nNice work! your higher grade is {max(grade)}\")"
   ]
  },
  {
   "cell_type": "code",
   "execution_count": 66,
   "metadata": {},
   "outputs": [
    {
     "name": "stdout",
     "output_type": "stream",
     "text": [
      "Your grades are: [100, 30, 40, 89]\n",
      "Your grades from highest to lowest: [30, 40, 89, 100]\n",
      "\n",
      "The lowest two grade will be removed.\n",
      "Removed grade: 30\n",
      "Removed grade: 40\n",
      "\n",
      "Your remaining grades are: [100, 89]\n",
      "\n",
      "Nice work! your higher grade is 100\n"
     ]
    }
   ],
   "source": [
    "grade_rank(100, 30, 40, 89)"
   ]
  },
  {
   "attachments": {},
   "cell_type": "markdown",
   "metadata": {},
   "source": [
    "## 36. Different Type of List"
   ]
  },
  {
   "cell_type": "code",
   "execution_count": 122,
   "metadata": {},
   "outputs": [],
   "source": [
    "def diff_type(**kwargs):\n",
    "    lst = []\n",
    "    for val in kwargs.values():\n",
    "        lst.append(val)\n",
    "        print(f\"Type of list: {type(val)}\")\n",
    "        print(f\"It contains: {val}\")\n",
    "        print(f\"The element {val[0]} is a {type(val[0])}\\n\")\n",
    "    print(\"Now sorting the integer and string list\")\n",
    "    for l in lst:\n",
    "        if(type(l[0]) == int):\n",
    "            print(f\"Sorted integer list: {sorted(l)}\")\n",
    "        elif(type(l[0]) == str):\n",
    "            print(f\"Sorted integer list: {sorted(l, reverse=True)}\")"
   ]
  },
  {
   "cell_type": "code",
   "execution_count": 125,
   "metadata": {},
   "outputs": [
    {
     "name": "stdout",
     "output_type": "stream",
     "text": [
      "Type of list: <class 'list'>\n",
      "It contains: [2, 3, 4]\n",
      "The element 2 is a <class 'int'>\n",
      "\n",
      "Type of list: <class 'list'>\n",
      "It contains: ['1', '2', '34', '100', '50']\n",
      "The element 1 is a <class 'str'>\n",
      "\n",
      "Type of list: <class 'list'>\n",
      "It contains: [2.3, 4.2, 34.4]\n",
      "The element 2.3 is a <class 'float'>\n",
      "\n",
      "Type of list: <class 'list'>\n",
      "It contains: [[1, 3, 4], [3, 4, 5]]\n",
      "The element [1, 3, 4] is a <class 'list'>\n",
      "\n",
      "Now sorting the integer and string list\n",
      "Sorted integer list: [2, 3, 4]\n",
      "Sorted integer list: ['50', '34', '2', '100', '1']\n"
     ]
    }
   ],
   "source": [
    "diff_type(list1=[2, 3, 4], list2=[\"1\", \"2\", \"34\", \"100\", \"50\"], list3=[2.3, 4.2, 34.4], list4=[[1, 3, 4], [3, 4, 5]])"
   ]
  },
  {
   "attachments": {},
   "cell_type": "markdown",
   "metadata": {},
   "source": [
    "## 37. Grocery List"
   ]
  },
  {
   "cell_type": "code",
   "execution_count": 153,
   "metadata": {},
   "outputs": [
    {
     "name": "stdout",
     "output_type": "stream",
     "text": [
      "Now: 2023-02-21 03:17:26\n",
      "\n",
      "Current total item in grocery is 5\n",
      "Sorted item in grocery: ['Apple', 'Banana', 'Chocolate', 'Melon', 'Milk']\n",
      "\n",
      "Removing Apple from list....\n",
      "Current total item in grocery is 4\n",
      "Sorted item in grocery: ['Banana', 'Chocolate', 'Melon', 'Milk']\n",
      "\n",
      "Removing Milk from list....\n",
      "Current total item in grocery is 3\n",
      "Sorted item in grocery: ['Banana', 'Chocolate', 'Melon']\n",
      "\n",
      "Removing Melon from list....\n",
      "Current total item in grocery is 2\n",
      "Sorted item in grocery: ['Banana', 'Chocolate']\n",
      "\n",
      "Removing Banan from list....\n",
      "Our grocery is out of Banan\n",
      "Left item(s) in grocery is ['Chocolate']\n"
     ]
    }
   ],
   "source": [
    "print(f\"Now: {datetime.now().strftime('%Y-%m-%d %H:%M:%S')}\\n\")\n",
    "\n",
    "def grocery(*args):\n",
    "    items = []\n",
    "    for item in args:\n",
    "        items.append(item)\n",
    "    for _ in range(len(items)-1):\n",
    "        print(f\"Current total item in grocery is {len(items)}\")\n",
    "        print(f\"Sorted item in grocery: {sorted(items)}\\n\")\n",
    "        itm_buy = str(input(\"What item do you want to buy: \"))\n",
    "        print(f\"Removing {itm_buy.capitalize()} from list....\")\n",
    "        if(itm_buy.capitalize() in items):\n",
    "            items.remove(itm_buy.capitalize())\n",
    "        elif(itm_buy.capitalize() not in items):\n",
    "            print(f\"Our grocery is out of {itm_buy.capitalize()}\")\n",
    "            new_itm = str(input(\"What food would you like instead: \"))\n",
    "            items.remove(new_itm.capitalize())\n",
    "        else:\n",
    "            print(\"Item is not in this grocery!\")\n",
    "    print(f\"Left item(s) in grocery is {items}\")\n",
    "\n",
    "grocery(\"Banana\", \"Apple\", \"Melon\", \"Chocolate\", \"Milk\")"
   ]
  },
  {
   "attachments": {},
   "cell_type": "markdown",
   "metadata": {},
   "source": [
    "## 38. Basketball Team Management"
   ]
  },
  {
   "cell_type": "code",
   "execution_count": 49,
   "metadata": {},
   "outputs": [
    {
     "name": "stdout",
     "output_type": "stream",
     "text": [
      "Your NBA starting player: \n",
      "Point Guard: Luca Docnic\n",
      "Shooting Guard: James Harden\n",
      "Small Forward: Kobe Bryant\n",
      "Power Forward: Michael Jordan\n",
      "Center: Shaqill O'Neal\n",
      "\n",
      "James Harden is injured! Please do substituion player soon.\n",
      "Your NBA team player after substitution: \n",
      "Point Guard: Luca Docnic\n",
      "Shooting Guard: Lebron James\n",
      "Small Forward: Kobe Bryant\n",
      "Power Forward: Michael Jordan\n",
      "Center: Shaqill O'Neal\n"
     ]
    }
   ],
   "source": [
    "pg = str(input(\"Who is your Point Guard: \"))\n",
    "sg = str(input(\"Who is your Shooting Guard: \"))\n",
    "sf = str(input(\"Who is your Small Forward: \"))\n",
    "pf = str(input(\"Who is your Power Forward: \"))\n",
    "c = str(input(\"Who is your Center: \"))\n",
    "\n",
    "nba_player  = []\n",
    "nba_player.append([pg.title(), sg.title(), sf.title(), pf.title(), c.title()])\n",
    "\n",
    "team = nba_player[0]\n",
    "\n",
    "print(f\"Your NBA starting player: \\nPoint Guard: {team[0]}\\nShooting Guard: {team[1]}\\nSmall Forward: {team[2]}\\nPower Forward: {team[3]}\\nCenter: {team[4]}\")\n",
    "print(f\"\\n{team[1]} is injured! Please do substituion player soon.\")\n",
    "team[1] = str(input(\"Who is the substitute player: \")).title()\n",
    "print(f\"Your NBA team player after substitution: \\nPoint Guard: {team[0]}\\nShooting Guard: {team[1]}\\nSmall Forward: {team[2]}\\nPower Forward: {team[3]}\\nCenter: {team[4]}\")"
   ]
  },
  {
   "attachments": {},
   "cell_type": "markdown",
   "metadata": {},
   "source": [
    "## 39. Teacher's Fav"
   ]
  },
  {
   "cell_type": "code",
   "execution_count": 53,
   "metadata": {},
   "outputs": [
    {
     "name": "stdout",
     "output_type": "stream",
     "text": [
      "Your fav teacher ranked are: ['Parto', 'Sule', 'Andre', 'Azis']\n",
      "Your fav teacher alphabetic ranked are: ['Andre', 'Azis', 'Parto', 'Sule']\n",
      "Your fav teacher reverse alphatetic ranked are: ['Sule', 'Parto', 'Azis', 'Andre']\n",
      "Your top two fav teachers are: Parto and Sule\n",
      "Your next two fav teachers are: Andre and Azis\n",
      "Your last fav teacher is: Azis\n",
      "Your fav teacher ranked now are: ['nurul', 'Parto', 'Sule', 'Andre', 'Azis']\n",
      "Your fav teacher alphabetic ranked now are: ['Andre', 'Azis', 'Parto', 'Sule', 'nurul']\n",
      "Your fav teacher reverse alphatetic ranked now are: ['nurul', 'Sule', 'Parto', 'Azis', 'Andre']\n",
      "Your top two fav teachers are: nurul and Parto\n",
      "Your next two fav teachers are: Sule and Andre\n",
      "Your last fav teacher is: Azis\n"
     ]
    }
   ],
   "source": [
    "teacher_fav = []\n",
    "\n",
    "# Insert name of fav teacher\n",
    "teacher_fav.append(str(input(\"Who is your first fav teacher: \")).title())\n",
    "teacher_fav.append(str(input(\"Who is your second fav teacher: \")).title())\n",
    "teacher_fav.append(str(input(\"Who is your third fav teacher: \")).title())\n",
    "teacher_fav.append(str(input(\"Who is your last favt teacher: \")).title())\n",
    "\n",
    "# Show the list of fav teacher\n",
    "print(f\"Your fav teacher ranked are: {teacher_fav}\")\n",
    "print(f\"Your fav teacher alphabetic ranked are: {sorted(teacher_fav)}\")\n",
    "print(f\"Your fav teacher reverse alphatetic ranked are: {sorted(teacher_fav, reverse=True)}\")\n",
    "\n",
    "# First summary\n",
    "print(f\"Your top two fav teachers are: {teacher_fav[0]} and {teacher_fav[1]}\")\n",
    "print(f\"Your next two fav teachers are: {teacher_fav[2]} and {teacher_fav[3]}\")\n",
    "print(f\"Your last fav teacher is: {teacher_fav[3]}\")\n",
    "\n",
    "# Change your top fav teacher\n",
    "teacher_fav.insert(0, str(input(f\"{teacher_fav[0]} is no longer your first fav teacher. Who is your first fav teacher now: \")).title())\n",
    "\n",
    "# Show the list of fav teacher (second part)\n",
    "print(f\"\\nYour fav teacher ranked now are: {teacher_fav}\")\n",
    "print(f\"Your fav teacher alphabetic ranked now are: {sorted(teacher_fav)}\")\n",
    "print(f\"Your fav teacher reverse alphatetic ranked now are: {sorted(teacher_fav, reverse=True)}\")\n",
    "\n",
    "# Second summary\n",
    "print(f\"Your top two fav teachers are: {teacher_fav[0]} and {teacher_fav[1]}\")\n",
    "print(f\"Your next two fav teachers are: {teacher_fav[2]} and {teacher_fav[3]}\")\n",
    "print(f\"Your last fav teacher is: {teacher_fav[4]}\")"
   ]
  },
  {
   "cell_type": "code",
   "execution_count": null,
   "metadata": {},
   "outputs": [],
   "source": []
  }
 ],
 "metadata": {
  "kernelspec": {
   "display_name": "Python 3",
   "language": "python",
   "name": "python3"
  },
  "language_info": {
   "codemirror_mode": {
    "name": "ipython",
    "version": 3
   },
   "file_extension": ".py",
   "mimetype": "text/x-python",
   "name": "python",
   "nbconvert_exporter": "python",
   "pygments_lexer": "ipython3",
   "version": "3.9.9"
  },
  "orig_nbformat": 4,
  "vscode": {
   "interpreter": {
    "hash": "11938c6bc6919ae2720b4d5011047913343b08a43b18698fd82dedb0d4417594"
   }
  }
 },
 "nbformat": 4,
 "nbformat_minor": 2
}
