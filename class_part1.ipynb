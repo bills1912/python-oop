{
 "cells": [
  {
   "cell_type": "code",
   "execution_count": 2,
   "metadata": {},
   "outputs": [],
   "source": [
    "class Person:\n",
    "\n",
    "    def __init__(self, name, age):\n",
    "        self.__name = name\n",
    "        self.__age = age\n",
    "\n",
    "    def get_name(self):\n",
    "        return self.__name\n",
    "    \n",
    "    def get_age(self):\n",
    "        return self.__age\n",
    "    \n",
    "    def info(self):\n",
    "        print(\"Name: {}\\nAge: {}\".format(self.__name, self.__age))\n",
    "    "
   ]
  },
  {
   "cell_type": "code",
   "execution_count": 11,
   "metadata": {},
   "outputs": [
    {
     "data": {
      "text/plain": [
       "True"
      ]
     },
     "execution_count": 11,
     "metadata": {},
     "output_type": "execute_result"
    }
   ],
   "source": [
    "person = Person(\"Bob\", 20)\n",
    "getattr(person, \"_Person__age\")\n",
    "hasattr(person, \"_Person__age\")"
   ]
  },
  {
   "cell_type": "code",
   "execution_count": 14,
   "metadata": {},
   "outputs": [],
   "source": [
    "class Job:\n",
    "\n",
    "    def __init__(self, name, salary, job_name):\n",
    "        self.__name = name\n",
    "        self.__salary = salary\n",
    "        self.__job_name = job_name\n",
    "    \n",
    "    def get_name(self):\n",
    "        return self.__name\n",
    "    \n",
    "    def get_salary(self):\n",
    "        return self.__salary\n",
    "\n",
    "    def get_job_name(self):\n",
    "        return self.__job_name"
   ]
  },
  {
   "cell_type": "code",
   "execution_count": 15,
   "metadata": {},
   "outputs": [
    {
     "name": "stdout",
     "output_type": "stream",
     "text": [
      "Name: Elsa\n",
      "Salary: 90000000000\n",
      "Job Name: <bound method Job.get_job_name of <__main__.Job object at 0x00000266CFB143A0>>\n"
     ]
    }
   ],
   "source": [
    "input_name = str(input(\"Enter stakeholder name: \"))\n",
    "input_salary = int(input(\"Enter stakeholder salary: \"))\n",
    "input_job_name = str(input(\"Enter stakeholder job name: \"))\n",
    "\n",
    "job = Job(input_name, input_salary, input_job_name)\n",
    "print(\"Name: {}\\nSalary: {}\\nJob Name: {}\".format(job.get_name(), job.get_salary(), job.get_job_name()))"
   ]
  }
 ],
 "metadata": {
  "kernelspec": {
   "display_name": "Python 3",
   "language": "python",
   "name": "python3"
  },
  "language_info": {
   "codemirror_mode": {
    "name": "ipython",
    "version": 3
   },
   "file_extension": ".py",
   "mimetype": "text/x-python",
   "name": "python",
   "nbconvert_exporter": "python",
   "pygments_lexer": "ipython3",
   "version": "3.9.9"
  },
  "orig_nbformat": 4,
  "vscode": {
   "interpreter": {
    "hash": "11938c6bc6919ae2720b4d5011047913343b08a43b18698fd82dedb0d4417594"
   }
  }
 },
 "nbformat": 4,
 "nbformat_minor": 2
}
