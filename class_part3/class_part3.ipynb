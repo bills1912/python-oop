{
 "cells": [
  {
   "cell_type": "code",
   "execution_count": 4,
   "metadata": {},
   "outputs": [],
   "source": [
    "import os\n",
    "import rsa\n",
    "from Crypto.Cipher import AES\n",
    "from Crypto.Util.Padding import pad, unpad\n",
    "from cryptography.fernet import Fernet"
   ]
  },
  {
   "cell_type": "code",
   "execution_count": 5,
   "metadata": {},
   "outputs": [],
   "source": [
    "class SymetricEncryption:\n",
    "\n",
    "    def __init__(self, data, BLOCK_SIZE):\n",
    "        self.__key = os.urandom(16)\n",
    "        self.__iv = os.urandom(16)\n",
    "        with open(data, 'r') as f:\n",
    "            self.data = f.read()\n",
    "        self.BLOCK_SIZE = BLOCK_SIZE\n",
    "    \n",
    "    @property\n",
    "    def key(self):\n",
    "        return self.__key\n",
    "    \n",
    "    @property\n",
    "    def iv(self):\n",
    "        return self.__iv\n",
    "    \n",
    "    def encrypt(self):\n",
    "        enc_cipher = AES.new(self.__key, AES.MODE_CBC, self.__iv)\n",
    "        ciphertext = enc_cipher.encrypt(pad(self.data.encode('utf-8'), self.BLOCK_SIZE))\n",
    "        return ciphertext\n",
    "\n",
    "    def decrypt(self, ciphertext):\n",
    "        dec_cipher = AES.new(self.__key, AES.MODE_CBC, self.__iv)\n",
    "        plaintext = unpad(dec_cipher.decrypt(ciphertext), self.BLOCK_SIZE)\n",
    "        return plaintext.decode('utf-8')"
   ]
  },
  {
   "cell_type": "code",
   "execution_count": 33,
   "metadata": {},
   "outputs": [],
   "source": [
    "class AsymetricEncryption:\n",
    "\n",
    "    def __init__(self, data):\n",
    "        self.__key = Fernet.generate_key()\n",
    "        (self.__publicKey, self.__privateKey) = rsa.newkeys(2048)\n",
    "        with open(data, 'rb') as f:\n",
    "            self.data = f.read()\n",
    "        \n",
    "    @property\n",
    "    def key(self):\n",
    "        return self.__key\n",
    "\n",
    "    @property\n",
    "    def publicPrivateKey(self):\n",
    "        return self.__publicKey, self.__privateKey\n",
    "\n",
    "    def encrypt(self):\n",
    "        cipher_key = Fernet(self.__key)\n",
    "        encrypt_data = cipher_key.encrypt(self.data)\n",
    "        encrypted_key = rsa.encrypt(self.__key, self.__publicKey)\n",
    "        return encrypt_data, encrypted_key\n",
    "\n",
    "    def decrypt(self, encrypted_key, encrypt_data):\n",
    "        decrypt_key = rsa.decrypt(encrypted_key, self.__privateKey)\n",
    "        decrypt_cipher = Fernet(decrypt_key)\n",
    "        plaintext = decrypt_cipher.decrypt(encrypt_data).decode('utf-8')\n",
    "        return plaintext"
   ]
  },
  {
   "cell_type": "code",
   "execution_count": 23,
   "metadata": {},
   "outputs": [],
   "source": [
    "sym_enc = SymetricEncryption('Catatan Kajian 1 Rakor 6.txt', 16)\n",
    "encrypt_data = sym_enc.encrypt()"
   ]
  },
  {
   "cell_type": "code",
   "execution_count": 24,
   "metadata": {},
   "outputs": [
    {
     "name": "stdout",
     "output_type": "stream",
     "text": [
      "Catatan Kajian 1:\n",
      "- Speed up\n",
      "- PPT harus lebih diperinci lagi\n",
      "- Masalah analisis indeks komposit, bisa lebih diperinci lagi terkait laporannya, baik di pemaparan maupun dalam laporan riset nantinya\n",
      "- Citra satelit yang digunakan harus ditambah (Sentinel-1 dan Landsat-8)\n",
      "- Hasil dari tutupan lahan harus lebih cepat diselesaikan\n",
      "- Target kuesioner nya masih belum bisa ditentukan\n",
      "- Link ke kajian 2 masih harus dikaji\n",
      "- Pra-modelling sebenarnya sudah bisa digunakan sebagai gambaran penentuan sample\n",
      "- Kedepannya harus disampaikan bener2 dari awal lagi\n"
     ]
    }
   ],
   "source": [
    "decrypt_data = sym_enc.decrypt(encrypt_data)\n",
    "print(decrypt_data)"
   ]
  },
  {
   "cell_type": "code",
   "execution_count": 34,
   "metadata": {},
   "outputs": [],
   "source": [
    "asym_enc = AsymetricEncryption('Catatan Kajian 1 Rakor 6.txt')\n",
    "encrypt_data = asym_enc.encrypt()"
   ]
  },
  {
   "cell_type": "code",
   "execution_count": 35,
   "metadata": {},
   "outputs": [
    {
     "name": "stdout",
     "output_type": "stream",
     "text": [
      "Catatan Kajian 1:\n",
      "- Speed up\n",
      "- PPT harus lebih diperinci lagi\n",
      "- Masalah analisis indeks komposit, bisa lebih diperinci lagi terkait laporannya, baik di pemaparan maupun dalam laporan riset nantinya\n",
      "- Citra satelit yang digunakan harus ditambah (Sentinel-1 dan Landsat-8)\n",
      "- Hasil dari tutupan lahan harus lebih cepat diselesaikan\n",
      "- Target kuesioner nya masih belum bisa ditentukan\n",
      "- Link ke kajian 2 masih harus dikaji\n",
      "- Pra-modelling sebenarnya sudah bisa digunakan sebagai gambaran penentuan sample\n",
      "- Kedepannya harus disampaikan bener2 dari awal lagi\n"
     ]
    }
   ],
   "source": [
    "decrypt_data = asym_enc.decrypt(encrypt_data[1], encrypt_data[0])\n",
    "print(decrypt_data)"
   ]
  }
 ],
 "metadata": {
  "kernelspec": {
   "display_name": "Python 3",
   "language": "python",
   "name": "python3"
  },
  "language_info": {
   "codemirror_mode": {
    "name": "ipython",
    "version": 3
   },
   "file_extension": ".py",
   "mimetype": "text/x-python",
   "name": "python",
   "nbconvert_exporter": "python",
   "pygments_lexer": "ipython3",
   "version": "3.9.9"
  },
  "orig_nbformat": 4,
  "vscode": {
   "interpreter": {
    "hash": "11938c6bc6919ae2720b4d5011047913343b08a43b18698fd82dedb0d4417594"
   }
  }
 },
 "nbformat": 4,
 "nbformat_minor": 2
}
