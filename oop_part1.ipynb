{
 "cells": [
  {
   "cell_type": "code",
   "execution_count": 1,
   "metadata": {},
   "outputs": [],
   "source": [
    "class Job:\n",
    "\n",
    "    def __init__(self, job_name, salary):\n",
    "        self.__job_name = job_name\n",
    "        self.salary = salary\n",
    "\n",
    "    def job_info(self):\n",
    "        print(f\"Job name: {self.__job_name}\\nSalary: {self.salary}\")\n",
    "    \n",
    "class Employee(Job):\n",
    "\n",
    "    def __init__(self, job_name, salary, name, age):\n",
    "        super(Employee, self).__init__(job_name, salary)\n",
    "        self.__name = name\n",
    "        self.age = age\n",
    "    \n",
    "    @property\n",
    "    def name(self):\n",
    "        return self.__name\n",
    "\n",
    "    @property\n",
    "    def __str__(self):\n",
    "        print(f\"Job name: {self._Job__job_name}\\nSalary: {self.salary}\\nName: {self.__name}\\nAge: {self.age}\")\n"
   ]
  },
  {
   "cell_type": "code",
   "execution_count": 2,
   "metadata": {},
   "outputs": [
    {
     "name": "stdout",
     "output_type": "stream",
     "text": [
      "Job name: Programmer\n",
      "Salary: 100000\n",
      "Name: John\n",
      "Age: 30\n"
     ]
    }
   ],
   "source": [
    "emp = Employee(\"Programmer\", \"100000\", \"John\", \"30\")\n",
    "emp.__str__"
   ]
  }
 ],
 "metadata": {
  "kernelspec": {
   "display_name": "Python 3",
   "language": "python",
   "name": "python3"
  },
  "language_info": {
   "codemirror_mode": {
    "name": "ipython",
    "version": 3
   },
   "file_extension": ".py",
   "mimetype": "text/x-python",
   "name": "python",
   "nbconvert_exporter": "python",
   "pygments_lexer": "ipython3",
   "version": "3.9.9"
  },
  "orig_nbformat": 4,
  "vscode": {
   "interpreter": {
    "hash": "11938c6bc6919ae2720b4d5011047913343b08a43b18698fd82dedb0d4417594"
   }
  }
 },
 "nbformat": 4,
 "nbformat_minor": 2
}
