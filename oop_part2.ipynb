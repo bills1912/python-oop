{
 "cells": [
  {
   "cell_type": "code",
   "execution_count": 2,
   "metadata": {},
   "outputs": [],
   "source": [
    "from abc import ABCMeta, abstractmethod\n",
    "\n",
    "class SistemInformasi(metaclass=ABCMeta):\n",
    "\n",
    "    @abstractmethod\n",
    "    def infoMahasiswa(self):\n",
    "        pass"
   ]
  },
  {
   "cell_type": "code",
   "execution_count": 5,
   "metadata": {},
   "outputs": [],
   "source": [
    "class Mahasiswa(SistemInformasi):\n",
    "\n",
    "    def __init__(self, nama, nim, kelas, asal):\n",
    "        self.__nama = nama\n",
    "        self.__nim = nim\n",
    "        self.kelas = kelas\n",
    "        self.asal = asal\n",
    "    \n",
    "    def infoMahasiswa(self):\n",
    "        print(f\"Nama: {self.__nama}\\nNIM: {self.__nim}\\nKelas: {self.kelas}\\nAsal: {self.asal}\")"
   ]
  },
  {
   "cell_type": "code",
   "execution_count": null,
   "metadata": {},
   "outputs": [],
   "source": [
    "input_nama = str(input(\"Masukkan nama: \"))\n",
    "input_nim = str(input(\"Masukkan NIM: \"))\n",
    "input_kelas = str(input(\"Masukan Kelas: \"))\n",
    "input_asal = str(input(\"Masukkan Asal: \"))"
   ]
  },
  {
   "cell_type": "code",
   "execution_count": 6,
   "metadata": {},
   "outputs": [
    {
     "name": "stdout",
     "output_type": "stream",
     "text": [
      "Nama: Bill Van\n",
      "NIM: 221911069\n",
      "Kelas: 3SI1\n",
      "Asal: Nias, Sumatera Utara\n"
     ]
    }
   ],
   "source": [
    "mhs = Mahasiswa(input_nama, input_nim, input_kelas, input_asal)\n",
    "mhs.infoMahasiswa()"
   ]
  }
 ],
 "metadata": {
  "kernelspec": {
   "display_name": "Python 3",
   "language": "python",
   "name": "python3"
  },
  "language_info": {
   "codemirror_mode": {
    "name": "ipython",
    "version": 3
   },
   "file_extension": ".py",
   "mimetype": "text/x-python",
   "name": "python",
   "nbconvert_exporter": "python",
   "pygments_lexer": "ipython3",
   "version": "3.9.9"
  },
  "orig_nbformat": 4,
  "vscode": {
   "interpreter": {
    "hash": "11938c6bc6919ae2720b4d5011047913343b08a43b18698fd82dedb0d4417594"
   }
  }
 },
 "nbformat": 4,
 "nbformat_minor": 2
}
